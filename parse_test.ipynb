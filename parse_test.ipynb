{
 "cells": [
  {
   "cell_type": "code",
   "execution_count": null,
   "id": "a6fdbcc7",
   "metadata": {},
   "outputs": [],
   "source": [
    "pip install selenium pandas\n"
   ]
  },
  {
   "cell_type": "code",
   "execution_count": 3,
   "id": "cb7f23f2",
   "metadata": {},
   "outputs": [],
   "source": [
    "from selenium import webdriver\n",
    "from selenium.webdriver.chrome.service import Service\n",
    "from selenium.webdriver.chrome.options import Options\n",
    "from selenium.webdriver.common.by import By\n",
    "import pandas as pd\n",
    "import time\n",
    "\n",
    "proxy_ip_port = '27.121.87.187:80'  \n",
    "\n",
    "chrome_options = Options()\n",
    "chrome_options.add_argument(\"--headless\")\n",
    "chrome_options.add_argument(\"--disable-gpu\")\n",
    "chrome_options.add_argument(f'--proxy-server={proxy_ip_port}')\n",
    "\n",
    "service = Service('C:\\Dev\\chrome-win64\\chromedriver.exe')\n",
    "driver = webdriver.Chrome(service=service, options=chrome_options)\n"
   ]
  },
  {
   "cell_type": "markdown",
   "id": "38ea4245",
   "metadata": {},
   "source": [
    "Подгрузка необходимых библиотек. Настройка прокси, чтобы не активировалась защита на сайте. В качестве моста использую Хром-Селениум. \n",
    "(Прокси бесплатный, для проверки работоспособности вставьте свой)"
   ]
  },
  {
   "cell_type": "code",
   "execution_count": 7,
   "id": "68fef6b0",
   "metadata": {},
   "outputs": [
    {
     "data": {
      "text/plain": [
       "{'store': {'base_url': 'https://sbermarket.ru/',\n",
       "  'categories': ['Sales', 'Beverages', 'Vegetables']}}"
      ]
     },
     "execution_count": 7,
     "metadata": {},
     "output_type": "execute_result"
    }
   ],
   "source": [
    "#файл конфигурации выглядит таким образом\n",
    "{\n",
    "  \"store\": {\n",
    "    \"base_url\": \"https://sbermarket.ru/\",\n",
    "    \"categories\": [\n",
    "      \"Sales\",\n",
    "      \"Beverages\",\n",
    "      \"Vegetables\"\n",
    "    ]\n",
    "  }\n",
    "}\n"
   ]
  },
  {
   "cell_type": "code",
   "execution_count": 8,
   "id": "54a51a9a",
   "metadata": {},
   "outputs": [
    {
     "name": "stdout",
     "output_type": "stream",
     "text": [
      "Базовый URL магазина: https://sbermarket.ru/\n",
      "Категории для парсинга: ['Sales', 'Beverages', 'Vegetables']\n"
     ]
    }
   ],
   "source": [
    "import json \n",
    "def load_configuration(config_path='config.json'):\n",
    "    with open(config_path, 'r') as config_file:\n",
    "        config = json.load(config_file)\n",
    "    return config['store']['base_url'], config['store']['categories']\n",
    "\n",
    "store_base_url, categories = load_configuration()\n",
    "\n",
    "print(f\"Базовый URL магазина: {store_base_url}\")\n",
    "print(f\"Категории для парсинга: {categories}\")\n"
   ]
  },
  {
   "cell_type": "markdown",
   "id": "682e4d48",
   "metadata": {},
   "source": [
    "Использование конфигурации в скрипте"
   ]
  },
  {
   "cell_type": "code",
   "execution_count": null,
   "id": "13042385",
   "metadata": {},
   "outputs": [],
   "source": [
    "def scrape_category_products(category):\n",
    "    driver.get(f\"{store_base_url}{category}\")\n",
    "    time.sleep(5)  \n",
    "\n",
    "    products = []\n",
    "    \n",
    "    product_elements = driver.find_elements(By.CSS_SELECTOR, 'product-selector')  \n",
    "    for product in product_elements:\n",
    "        name = product.find_element(By.CSS_SELECTOR, 'name-selector').text  \n",
    "        price = product.find_element(By.CSS_SELECTOR, 'price-selector').text  \n",
    "        url = product.find_element(By.CSS_SELECTOR, 'a').get_attribute('href')\n",
    "        \n",
    "        products.append({\n",
    "            'category': category,\n",
    "            'name': name,\n",
    "            'price': price,\n",
    "            'url': url\n",
    "        })\n",
    "\n",
    "    return products\n",
    "\n",
    "all_products = []\n",
    "for category in categories:\n",
    "    all_products.extend(scrape_category_products(category))\n",
    "\n",
    "df = pd.DataFrame(all_products)\n",
    "df.to_csv('products.csv', index=False)\n"
   ]
  },
  {
   "cell_type": "markdown",
   "id": "c0139ccf",
   "metadata": {},
   "source": [
    "Извлечение маркированных данных и запись в csv для удобства"
   ]
  },
  {
   "cell_type": "code",
   "execution_count": null,
   "id": "ed2b8e6f",
   "metadata": {},
   "outputs": [],
   "source": []
  }
 ],
 "metadata": {
  "kernelspec": {
   "display_name": "Python 3 (ipykernel)",
   "language": "python",
   "name": "python3"
  },
  "language_info": {
   "codemirror_mode": {
    "name": "ipython",
    "version": 3
   },
   "file_extension": ".py",
   "mimetype": "text/x-python",
   "name": "python",
   "nbconvert_exporter": "python",
   "pygments_lexer": "ipython3",
   "version": "3.11.5"
  }
 },
 "nbformat": 4,
 "nbformat_minor": 5
}
